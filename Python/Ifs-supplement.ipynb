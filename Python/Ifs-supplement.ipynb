{
 "cells": [
  {
   "cell_type": "markdown",
   "id": "2d55bda5-a0e2-4c01-bb9a-04c9c305e260",
   "metadata": {},
   "source": [
    "## Practice Problem 1: Weather\n",
    "Write a program where you define a variable `temperature` and it outputs the message \"You shouldn’t play outside today.\" , if `temperature` is > 95. Otherwise it should be “You should play outside today.”"
   ]
  },
  {
   "cell_type": "code",
   "execution_count": 10,
   "id": "3e573111-fedb-4e07-9763-c5a9b2850a6b",
   "metadata": {},
   "outputs": [
    {
     "name": "stdout",
     "output_type": "stream",
     "text": [
      "Do not play outside\n"
     ]
    }
   ],
   "source": [
    "temperature = 80\n",
    "\n",
    "if temperature > 95:\n",
    "    print('Do not play outside')\n",
    "else:\n",
    "    print('You should play outside')"
   ]
  },
  {
   "cell_type": "markdown",
   "id": "07436faf-0de2-41a4-ac32-39ae801ea690",
   "metadata": {},
   "source": [
    "## Practice Problem 2: Passcode\n",
    "Write a program where you define a variable `passcode` and a variable `guess`. If `guess` is the same as `passcode`, then print \"Login successful!\". Otherwise, print \"Wrong passcode\".\n",
    "\n",
    "Hint: Use strings!"
   ]
  },
  {
   "cell_type": "code",
   "execution_count": 17,
   "id": "a9cb6b55-db27-43f5-9146-4398ba25b2a7",
   "metadata": {},
   "outputs": [
    {
     "name": "stdout",
     "output_type": "stream",
     "text": [
      "Login successful\n"
     ]
    }
   ],
   "source": [
    "passcode = \"dog\"\n",
    "guess = \"dog\" \n",
    "\n",
    "if guess == passcode:\n",
    "    print('Login successful')\n",
    "else:\n",
    "    print('Wrong passcode')\n"
   ]
  },
  {
   "cell_type": "markdown",
   "id": "b0c5734b-ba1e-4900-97d3-05d355935571",
   "metadata": {},
   "source": [
    "## Weather pt. 2\n",
    "\n",
    "Revise the earlier program so that if `temperature` is > 95 it says \"It's too hot to play outside today\" and if `temperature` is <50, it says \"It's too cool to play outside today\". Otherwise it should say “You should play outside today.”"
   ]
  },
  {
   "cell_type": "code",
   "execution_count": 23,
   "id": "ce8056c1-4b3d-4a78-ac1b-c3acc4a0cfcf",
   "metadata": {},
   "outputs": [
    {
     "name": "stdout",
     "output_type": "stream",
     "text": [
      "It's to cold to play outside\n"
     ]
    }
   ],
   "source": [
    "temperature = 45\n",
    "\n",
    "if temperature > 95:\n",
    "    print('Do not play outside')\n",
    "elif temperature < 50:\n",
    "    print(\"It's to cold to play outside\")\n",
    "else:\n",
    "    print('You should play outside')"
   ]
  }
 ],
 "metadata": {
  "kernelspec": {
   "display_name": "Python 3 (ipykernel)",
   "language": "python",
   "name": "python3"
  },
  "language_info": {
   "codemirror_mode": {
    "name": "ipython",
    "version": 3
   },
   "file_extension": ".py",
   "mimetype": "text/x-python",
   "name": "python",
   "nbconvert_exporter": "python",
   "pygments_lexer": "ipython3",
   "version": "3.12.7"
  }
 },
 "nbformat": 4,
 "nbformat_minor": 5
}
