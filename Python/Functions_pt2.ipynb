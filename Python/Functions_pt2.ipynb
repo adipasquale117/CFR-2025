{
 "cells": [
  {
   "cell_type": "markdown",
   "id": "34634210-aafb-4961-97e7-12eb67453c5d",
   "metadata": {},
   "source": [
    "# Functions Part 2"
   ]
  },
  {
   "cell_type": "markdown",
   "id": "339fcaec-473f-40c2-92c2-2791ee7289df",
   "metadata": {},
   "source": [
    "## Built-in Functions\n",
    "\n",
    "* `max(n1, n2, n3, ...)` returns the largest of n values\n",
    "* `min(n1, n2, n3, ...)`returns the smallest of n values\n",
    "* `abs(n)` returns the absolute value of a number"
   ]
  },
  {
   "cell_type": "markdown",
   "id": "e046fd5e-c56d-4b16-97ba-05050b81d4d6",
   "metadata": {},
   "source": [
    "## Problem 1: Find max and min\n",
    "Define and assign numbers to three variables `n1`, `n2`, and `n3`. Use the `max` and `min` functions to find the largest and smallest of the 3 numbers."
   ]
  },
  {
   "cell_type": "code",
   "execution_count": 1,
   "id": "49708bfc-1336-4beb-9bce-ffeeb9af3382",
   "metadata": {},
   "outputs": [
    {
     "name": "stdout",
     "output_type": "stream",
     "text": [
      "10\n",
      "6\n"
     ]
    }
   ],
   "source": [
    "n1 = 6\n",
    "n2 = 8\n",
    "n3 = 10\n",
    "\n",
    "print(max(n1,n2,n3))\n",
    "print(min(n1,n2,n3))"
   ]
  },
  {
   "cell_type": "code",
   "execution_count": 14,
   "id": "07e3a462-fa3d-4e8a-a298-c51630ea5879",
   "metadata": {},
   "outputs": [
    {
     "name": "stdout",
     "output_type": "stream",
     "text": [
      "10\n",
      "6\n"
     ]
    }
   ],
   "source": [
    "# fix\n",
    "n1 = 6\n",
    "n2 = 8\n",
    "n3 = -10\n",
    "\n",
    "max(n1,n2,n3)\n",
    "min(n1,n2,n3)\n",
    "\n",
    "abs_n1 = abs(n1)\n",
    "abs_n2 = abs(n2)\n",
    "abs_n3 = abs(n3)\n",
    "\n",
    "print(max(abs_n1,abs_n2,abs_n3))\n",
    "print(min(abs_n1,abs_n2,abs_n3))"
   ]
  },
  {
   "cell_type": "code",
   "execution_count": null,
   "id": "759cb838-8064-42f1-aa39-3043f9efeea4",
   "metadata": {},
   "outputs": [],
   "source": [
    "# Play with this code later\n",
    "\n",
    "n1 = 6\n",
    "n2 = 8\n",
    "n3 = 10\n",
    "def max(n1, n2, n3):\n",
    "    if n1 > n2 > n3:\n",
    "        return max\n",
    "        \n",
    "def min(n1, n2, n3):\n",
    "    if n1 < n2 < n3:\n",
    "        return min\n",
    "\n",
    "print(max)\n",
    "print(min)"
   ]
  },
  {
   "cell_type": "markdown",
   "id": "e65e658f-1103-45d4-af36-c52fefba3b93",
   "metadata": {},
   "source": [
    "## Problem 2: Compare magnitudes\n",
    "Do the same thing as Problem 1, except now, use the `abs` function to first take the absolute value function first."
   ]
  },
  {
   "cell_type": "code",
   "execution_count": 9,
   "id": "fd9311d2-7773-4e32-a8a0-fa313452738d",
   "metadata": {},
   "outputs": [
    {
     "name": "stdout",
     "output_type": "stream",
     "text": [
      "10\n",
      "6\n"
     ]
    }
   ],
   "source": [
    "n1 = 6\n",
    "n2 = 8\n",
    "n3 = -10\n",
    "\n",
    "abs_n1 = abs(n1)\n",
    "abs_n2 = abs(n2)\n",
    "abs_n3 = abs(n3)\n",
    "\n",
    "print(max(abs_n1,abs_n2,abs_n3))\n",
    "print(min(abs_n1,abs_n2,abs_n3))"
   ]
  },
  {
   "cell_type": "markdown",
   "id": "36543796-1f3b-472f-80f7-c95205863b49",
   "metadata": {},
   "source": [
    "## Problem 3: Whiteboard Problem (DO NOT RUN!)\n",
    "\n",
    "```\n",
    "def f(a, b):\n",
    "    x = 1    \n",
    "    if a > 0:\n",
    "        if b < 0:\n",
    "            x = x + 5\n",
    "        elif a > 5:\n",
    "            x = x + 4\n",
    "        elif a > 10:\n",
    "            x = x + 3\n",
    "    else:\n",
    "        x = x + 2\n",
    "    return x) \n",
    "```\n",
    "\n",
    "What will f(5,5) return?\n",
    "What will f(0,-5) return?\n"
   ]
  },
  {
   "cell_type": "code",
   "execution_count": 15,
   "id": "32f26097-bacd-4460-bb14-d124f8e71798",
   "metadata": {},
   "outputs": [
    {
     "ename": "SyntaxError",
     "evalue": "unmatched ')' (240639706.py, line 14)",
     "output_type": "error",
     "traceback": [
      "\u001b[1;36m  Cell \u001b[1;32mIn[15], line 14\u001b[1;36m\u001b[0m\n\u001b[1;33m    return x)\u001b[0m\n\u001b[1;37m            ^\u001b[0m\n\u001b[1;31mSyntaxError\u001b[0m\u001b[1;31m:\u001b[0m unmatched ')'\n"
     ]
    }
   ],
   "source": [
    "\n",
    "def f(a, b):\n",
    "    x = 1    \n",
    "    if a > 0:\n",
    "        if b < 0:\n",
    "            x = x + 5\n",
    "        elif a > 5:\n",
    "            x = x + 4\n",
    "        elif a > 10:\n",
    "            x = x + 3\n",
    "    else:\n",
    "        x = x + 2\n",
    "    return x) "
   ]
  },
  {
   "cell_type": "code",
   "execution_count": null,
   "id": "37ad46f1-3a67-424d-89d4-0ab230855d37",
   "metadata": {},
   "outputs": [],
   "source": []
  }
 ],
 "metadata": {
  "kernelspec": {
   "display_name": "Python 3 (ipykernel)",
   "language": "python",
   "name": "python3"
  },
  "language_info": {
   "codemirror_mode": {
    "name": "ipython",
    "version": 3
   },
   "file_extension": ".py",
   "mimetype": "text/x-python",
   "name": "python",
   "nbconvert_exporter": "python",
   "pygments_lexer": "ipython3",
   "version": "3.12.7"
  }
 },
 "nbformat": 4,
 "nbformat_minor": 5
}
