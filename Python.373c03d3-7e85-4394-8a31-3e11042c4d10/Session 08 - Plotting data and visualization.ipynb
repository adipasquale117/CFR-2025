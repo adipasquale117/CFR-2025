{
 "cells": [
  {
   "cell_type": "markdown",
   "metadata": {},
   "source": [
    "# Session 08: Plotting data and visualization\n",
    "\n",
    "## Introduction\n",
    "Data visualization is a powerful tool to understand and communicate data. In this tutorial, you will learn how to use Python's matplotlib library for data visualization. We will cover basic plots, customization, and some advanced techniques.\n",
    "\n",
    "### Objectives\n",
    "- Understand the basics of matplotlib\n",
    "- Create and customize various types of plots\n",
    "- Learn to visualize data effectively\n",
    "\n",
    "### Prerequisites\n",
    "Basic knowledge of Python: functions, variables, lists, and arrays\n",
    "\n",
    "### Estimated Time: 1.5 hours\n",
    "\n",
    "## Introduction to Matplotlib\n",
    "\n",
    "### What is Data Visualization?\n",
    "Data Visualization is the graphical representation of information, usually in the form of graphs, charts, maps, etc.\n",
    "\n",
    "The human brain is remarkably skilled at detecting patterns in visualizations, allowing us to process large and complex datasets that would otherwise be difficult to make sense of.\n",
    "\n",
    "There are many different types of charts out there, so how do you choose which one is appropriate for your dataset? The first step involves understanding what kind of data you have, which informs the sorts of charts you can make. The two main categories of data types are:\n",
    "\n",
    "* Numerical Data\n",
    "    + ordered, can take a real value in between two other values\n",
    "    + for example, data on a group of people's age or height\n",
    "* Categorical Data \n",
    "    + groups that you generally do not put an order to\n",
    "    + for example, data on types of pets in a pet store (dogs, cats, fish)\n",
    "\n",
    "### What is Matplotlib?\n",
    "Matplotlib is a comprehensive library for creating static, animated, and interactive visualizations in Python. It provides a variety of tools to create plots and graphs.\n",
    "\n",
    "### Installing Matplotlib (should already be installed)\n",
    "If you haven't installed matplotlib yet, you can do so using pip: pip install matplotlib\n"
   ]
  },
  {
   "cell_type": "markdown",
   "metadata": {},
   "source": [
    "\n",
    "## Basic Plotting with Matplotlib\n",
    "### Example 1: Line Plot\n",
    "Instructions:\n",
    "\n",
    "- Import the matplotlib.pyplot module.\n",
    "- Create a simple line plot using `plt.plot()`.\n",
    "- Display the plot using `plt.show()`.\n"
   ]
  },
  {
   "cell_type": "code",
   "execution_count": null,
   "metadata": {},
   "outputs": [],
   "source": [
    "\n"
   ]
  },
  {
   "cell_type": "markdown",
   "metadata": {},
   "source": [
    "**Practice Problem 1: Create Your Own Line Plot**\n",
    "\n",
    "Create a line plot for the following data:\n",
    "- x: [0, 1, 2, 3, 4, 5]\n",
    "- y: [0, 1, 4, 9, 16, 25]\n",
    "\n",
    "**Solution:**"
   ]
  },
  {
   "cell_type": "code",
   "execution_count": null,
   "metadata": {},
   "outputs": [],
   "source": []
  },
  {
   "cell_type": "markdown",
   "metadata": {},
   "source": [
    "### Example 2: Customizing Line Plot\n",
    "\n",
    "Instructions:\n",
    "\n",
    "- Customize the plot by adding color, line style, and markers.\n",
    "- Use `plt.grid()` to add grid lines."
   ]
  },
  {
   "cell_type": "code",
   "execution_count": null,
   "metadata": {},
   "outputs": [],
   "source": [
    "\n"
   ]
  },
  {
   "cell_type": "markdown",
   "metadata": {},
   "source": [
    "**Practice Problem 2: Customize Your Line Plot**\n",
    "\n",
    "Customize the line plot you created in Practice Problem 1 by changing the color to red, adding a dashed line style, and using square markers.\n",
    "\n",
    "**Solution:**"
   ]
  },
  {
   "cell_type": "code",
   "execution_count": null,
   "metadata": {},
   "outputs": [],
   "source": [
    "\n",
    "\n"
   ]
  },
  {
   "cell_type": "markdown",
   "metadata": {},
   "source": [
    "### Example 3: Bar Plot\n",
    "\n",
    "Instructions:\n",
    "\n",
    "- Create a bar plot using `plt.bar()`.\n",
    "- Display the plot using `plt.show()`."
   ]
  },
  {
   "cell_type": "code",
   "execution_count": null,
   "metadata": {},
   "outputs": [],
   "source": []
  },
  {
   "cell_type": "markdown",
   "metadata": {},
   "source": [
    "**Practice Problem 3: Create Your Own Bar Plot**\n",
    "\n",
    "Create a bar plot for the following data:\n",
    "\n",
    "Categories: ['X', 'Y', 'Z']\n",
    "Values: [10, 20, 15]\n",
    "\n",
    "**Solution:**"
   ]
  },
  {
   "cell_type": "code",
   "execution_count": null,
   "metadata": {},
   "outputs": [],
   "source": [
    "\n"
   ]
  },
  {
   "cell_type": "markdown",
   "metadata": {},
   "source": [
    "### Example 4: Histogram\n",
    "\n",
    "Instructions:\n",
    "\n",
    "- Create a histogram using `plt.hist()`.\n",
    "- Display the plot using `plt.show()`."
   ]
  },
  {
   "cell_type": "code",
   "execution_count": null,
   "metadata": {},
   "outputs": [],
   "source": [
    "\n",
    "\n"
   ]
  },
  {
   "cell_type": "markdown",
   "metadata": {},
   "source": [
    "**Practice Problem 4: Create Your Own Histogram**\n",
    "\n",
    "Create a histogram for a dataset of 500 random values.\n",
    "\n",
    "**Solution:**"
   ]
  },
  {
   "cell_type": "code",
   "execution_count": null,
   "metadata": {},
   "outputs": [],
   "source": [
    "\n"
   ]
  },
  {
   "cell_type": "markdown",
   "metadata": {},
   "source": [
    "### Example 5: Scatter Plot\n",
    "\n",
    "Instructions:\n",
    "\n",
    "- Create a scatter plot using `plt.scatter()`.\n",
    "- Display the plot using `plt.show()`."
   ]
  },
  {
   "cell_type": "code",
   "execution_count": null,
   "metadata": {},
   "outputs": [],
   "source": []
  },
  {
   "cell_type": "markdown",
   "metadata": {},
   "source": [
    "**Practice Problem 5: Create Your Own Scatter Plot**\n",
    "\n",
    "Create a scatter plot for the following data:\n",
    "\n",
    "x: [10, 20, 30, 40, 50]\n",
    "\n",
    "y: [15, 25, 35, 45, 55]\n",
    "\n",
    "**Solution:**\n"
   ]
  },
  {
   "cell_type": "code",
   "execution_count": null,
   "metadata": {},
   "outputs": [],
   "source": []
  },
  {
   "cell_type": "markdown",
   "metadata": {},
   "source": [
    "### Example 6: Creating Subplots\n",
    "\n",
    "Instructions:\n",
    "\n",
    "- Create multiple plots in a single figure using `plt.subplot()`.\n",
    "- Display the plots using `plt.show()`."
   ]
  },
  {
   "cell_type": "code",
   "execution_count": null,
   "metadata": {},
   "outputs": [],
   "source": []
  },
  {
   "cell_type": "markdown",
   "metadata": {},
   "source": [
    "**Practice Problem 6: Create Your Own Subplots**\n",
    "\n",
    "Create a figure with two subplots:\n",
    "\n",
    "- A line plot for the data x: [0, 1, 2, 3, 4], y: [0, 1, 4, 9, 16]\n",
    "- A bar plot for the data categories: ['A', 'B', 'C'], values: [5, 10, 15]\n",
    "\n",
    "**Solution:**"
   ]
  },
  {
   "cell_type": "code",
   "execution_count": null,
   "metadata": {},
   "outputs": [],
   "source": []
  },
  {
   "cell_type": "markdown",
   "metadata": {},
   "source": [
    "### Example 7: Adding Annotations\n",
    "\n",
    "**Instructions:**\n",
    "- Add annotations to a plot using `plt.annotate()`.\n",
    "- Customize the annotations to highlight specific data points.\n"
   ]
  },
  {
   "cell_type": "code",
   "execution_count": null,
   "metadata": {},
   "outputs": [],
   "source": []
  },
  {
   "cell_type": "markdown",
   "metadata": {},
   "source": [
    "**Practice Problem 7: Add Annotations to Your Plot**\n",
    "\n",
    "Add an annotation to the highest point in the line plot from Practice Problem 1.\n",
    "\n",
    "**Solution:**\n"
   ]
  },
  {
   "cell_type": "code",
   "execution_count": null,
   "metadata": {},
   "outputs": [],
   "source": []
  },
  {
   "cell_type": "markdown",
   "metadata": {},
   "source": [
    "## Conclusion\n",
    "\n",
    "In this tutorial, you have learned how to:\n",
    "- Create basic plots using Matplotlib\n",
    "- Customize plots with colors, markers, and grid lines\n",
    "- Create different types of plots such as bar plots, histograms, and scatter plots\n",
    "- Use subplots to create multiple plots in a single figure\n",
    "- Add annotations to highlight specific data points\n",
    "\n",
    "For a quick look at how to construct plots with matplotlib, see [matplotlib's cheatsheets](https://matplotlib.org/cheatsheets/).\n",
    "\n",
    "## Additional Practice Problems\n",
    "\n",
    "### Box Plot\n",
    "\n",
    "Create a box plot for a dataset of 100 random values.\n",
    "\n",
    "**Solution:**\n"
   ]
  },
  {
   "cell_type": "code",
   "execution_count": null,
   "metadata": {},
   "outputs": [],
   "source": [
    "\n"
   ]
  },
  {
   "cell_type": "markdown",
   "metadata": {},
   "source": [
    "### Pie Chart\n",
    "\n",
    "Create a pie chart for the following data: \n",
    "- Labels: ['A', 'B', 'C', 'D'] \n",
    "- Sizes: [15, 30, 45, 10].\n",
    "\n",
    "**Solution:**\n"
   ]
  },
  {
   "cell_type": "code",
   "execution_count": null,
   "metadata": {},
   "outputs": [],
   "source": [
    "\n"
   ]
  },
  {
   "cell_type": "markdown",
   "metadata": {},
   "source": [
    "### Save Plot\n",
    "\n",
    "Save one of your plots as an image file using `plt.savefig('filename.png')`.\n",
    "\n",
    "**Solution:**\n"
   ]
  },
  {
   "cell_type": "code",
   "execution_count": null,
   "metadata": {},
   "outputs": [],
   "source": [
    "\n"
   ]
  },
  {
   "cell_type": "code",
   "execution_count": null,
   "metadata": {},
   "outputs": [],
   "source": []
  }
 ],
 "metadata": {
  "kernelspec": {
   "display_name": "base",
   "language": "python",
   "name": "python3"
  },
  "language_info": {
   "codemirror_mode": {
    "name": "ipython",
    "version": 3
   },
   "file_extension": ".py",
   "mimetype": "text/x-python",
   "name": "python",
   "nbconvert_exporter": "python",
   "pygments_lexer": "ipython3",
   "version": "3.12.2"
  }
 },
 "nbformat": 4,
 "nbformat_minor": 2
}
